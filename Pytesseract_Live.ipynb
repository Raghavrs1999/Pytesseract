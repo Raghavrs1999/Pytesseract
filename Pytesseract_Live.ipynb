{
 "cells": [
  {
   "cell_type": "markdown",
   "id": "c37c3f53-036a-49c0-8a81-f5ecc31fae2e",
   "metadata": {},
   "source": [
    "Live Code"
   ]
  },
  {
   "cell_type": "code",
   "execution_count": 2,
   "id": "5bc618c0-83b6-42c8-88fb-806f956edc49",
   "metadata": {},
   "outputs": [
    {
     "name": "stdout",
     "output_type": "stream",
     "text": [
      "\n",
      "\n",
      "\n",
      "\n",
      "\n",
      "\n",
      "\n",
      "\n",
      "\n",
      "\n"
     ]
    }
   ],
   "source": [
    "from PIL import Image\n",
    "import cv2\n",
    "import pytesseract\n",
    "\n",
    "# Set the Tesseract executable path\n",
    "pytesseract.pytesseract.tesseract_cmd = r\"C:/Program Files/Tesseract-OCR/tesseract.exe\" # change with your path\n",
    "\n",
    "# Load the image using OpenCV\n",
    "\n",
    "frames = cv2.VideoCapture(0)\n",
    "\n",
    "while True:\n",
    "    ret, frame = frames.read()\n",
    "    \n",
    "    if not ret:\n",
    "        break\n",
    "    img = cv2.resize(frame, (720, 720))\n",
    "    #img = cv2.cvtColor(img, cv2.COLOR_BGR2GRAY)\n",
    "    \n",
    "    # Use pytesseract to get the bounding boxes and recognized text\n",
    "    boxes = pytesseract.image_to_boxes(img)\n",
    "    text = pytesseract.image_to_string(img)\n",
    "    print(text)\n",
    "    #print(boxes)\n",
    "    # Loop through the bounding boxes and draw rectangles\n",
    "    for box in boxes.splitlines():\n",
    "        b = box.split()\n",
    "        x, y, w, h = int(b[1]), int(b[2]), int(b[3]), int(b[4])\n",
    "        img = cv2.rectangle(img, (x, img.shape[0] - y), (w, img.shape[0] - h), (0, 0, 255), 2)\n",
    "\n",
    "    # Display the image with rectangles\n",
    "    cv2.imshow(\"Preview\", img)\n",
    "    key = cv2.waitKey(35)\n",
    "    if key == 27 or key == ord(\"q\"):\n",
    "        break\n",
    "frames.release()\n",
    "cv2.destroyAllWindows()"
   ]
  },
  {
   "cell_type": "markdown",
   "id": "ffb32257-9b9a-481e-936e-df5d02d69677",
   "metadata": {},
   "source": [
    "Trigger Baised Code"
   ]
  },
  {
   "cell_type": "code",
   "execution_count": 6,
   "id": "46bb5082-710c-4489-bc61-5879458508bb",
   "metadata": {},
   "outputs": [
    {
     "name": "stdout",
     "output_type": "stream",
     "text": [
      "NISARGA MENS PG\n",
      "\n",
      "\n"
     ]
    }
   ],
   "source": [
    "from PIL import Image\n",
    "import cv2\n",
    "import pytesseract\n",
    "\n",
    "# Set the Tesseract executable path\n",
    "pytesseract.pytesseract.tesseract_cmd = r\"C:/Program Files/Tesseract-OCR/tesseract.exe\" # change with your path\n",
    "\n",
    "# Load the image using OpenCV\n",
    "\n",
    "frames = cv2.VideoCapture(0)\n",
    "\n",
    "while True:\n",
    "    ret, frame = frames.read()\n",
    "    \n",
    "    if not ret:\n",
    "        break\n",
    "    img = cv2.resize(frame, (720, 720))\n",
    "    img = cv2.cvtColor(img, cv2.COLOR_BGR2GRAY)\n",
    "    cv2.putText(img, \"Press 's' for OCR\", (5, 23), cv2.FONT_HERSHEY_SIMPLEX, 0.8, (50, 100, 200), 2)\n",
    "    cv2.imshow(\"Live Stream\", img)\n",
    "    if key == ord(\"s\"):\n",
    "    \n",
    "        # Use pytesseract to get the bounding boxes and recognized text\n",
    "        boxes = pytesseract.image_to_boxes(img)\n",
    "        text = pytesseract.image_to_string(img)\n",
    "        print(text)\n",
    "        #print(boxes)\n",
    "        # Loop through the bounding boxes and draw rectangles\n",
    "        for box in boxes.splitlines():\n",
    "            b = box.split()\n",
    "            x, y, w, h = int(b[1]), int(b[2]), int(b[3]), int(b[4])\n",
    "            img = cv2.rectangle(img, (x, img.shape[0] - y), (w, img.shape[0] - h), (0, 0, 255), 2)\n",
    "    \n",
    "        # Display the image with rectangles\n",
    "        cv2.imshow(\"Preview\", img)\n",
    "    key = cv2.waitKey(35)\n",
    "    if key == 27 or key == ord(\"q\"):\n",
    "        break\n",
    "frames.release()\n",
    "cv2.destroyAllWindows()"
   ]
  },
  {
   "cell_type": "markdown",
   "id": "a1f55eca-1b5f-4deb-84fa-97d30bee79e8",
   "metadata": {},
   "source": [
    "                                                                THANK YOU"
   ]
  }
 ],
 "metadata": {
  "kernelspec": {
   "display_name": "Python 3 (ipykernel)",
   "language": "python",
   "name": "python3"
  },
  "language_info": {
   "codemirror_mode": {
    "name": "ipython",
    "version": 3
   },
   "file_extension": ".py",
   "mimetype": "text/x-python",
   "name": "python",
   "nbconvert_exporter": "python",
   "pygments_lexer": "ipython3",
   "version": "3.10.7"
  }
 },
 "nbformat": 4,
 "nbformat_minor": 5
}
