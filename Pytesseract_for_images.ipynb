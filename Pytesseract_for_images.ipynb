{
 "cells": [
  {
   "cell_type": "code",
   "execution_count": 1,
   "id": "7e9fd0be-4a01-48ee-9c7c-286b19a8efce",
   "metadata": {},
   "outputs": [
    {
     "name": "stdout",
     "output_type": "stream",
     "text": [
      "Requirement already satisfied: pytesseract in c:\\python\\lib\\site-packages (0.3.10)\n",
      "Requirement already satisfied: packaging>=21.3 in c:\\python\\lib\\site-packages (from pytesseract) (23.1)\n",
      "Requirement already satisfied: Pillow>=8.0.0 in c:\\python\\lib\\site-packages (from pytesseract) (9.3.0)\n"
     ]
    },
    {
     "name": "stderr",
     "output_type": "stream",
     "text": [
      "WARNING: There was an error checking the latest version of pip.\n"
     ]
    }
   ],
   "source": [
    "!pip install pytesseract"
   ]
  },
  {
   "cell_type": "code",
   "execution_count": 2,
   "id": "955b22d6-daf7-480f-a08d-1096440af271",
   "metadata": {},
   "outputs": [],
   "source": [
    "from PIL import Image\n",
    "import cv2\n",
    "import pytesseract"
   ]
  },
  {
   "cell_type": "code",
   "execution_count": 3,
   "id": "de7740e5-e242-4f08-97ed-fe199751136e",
   "metadata": {},
   "outputs": [],
   "source": [
    "pytesseract.pytesseract.tesseract_cmd = r\"C:/Program Files/Tesseract-OCR/tesseract.exe\""
   ]
  },
  {
   "cell_type": "code",
   "execution_count": 24,
   "id": "13bdbb4a-d85c-46b3-9551-841dcb44fdb8",
   "metadata": {},
   "outputs": [],
   "source": [
    "img = cv2.imread(\"army_size.png\")\n",
    "img  = cv2.resize(img, (720, 720))\n",
    "#img = cv2.cvtColor(img, cv2.COLOR_BGR2GRAY)\n",
    "cv2.imshow(\"Preview\",img)\n",
    "cv2.waitKey(0)\n",
    "cv2.destroyAllWindows()"
   ]
  },
  {
   "cell_type": "code",
   "execution_count": 25,
   "id": "16e282ad-f7bb-4845-81f5-150163313364",
   "metadata": {},
   "outputs": [
    {
     "name": "stdout",
     "output_type": "stream",
     "text": [
      "How big is the Army?\n",
      "\n",
      "* 1Kofi (1 Crore)\n",
      "\n",
      "* 100,000 Koti = 1 Shanku\n",
      "\n",
      "* 100,000 Shanku = 1 Maha Shanku\n",
      "\n",
      "* 100,000. Maha Shanku = 1 Vrindam\n",
      "\n",
      "* 100,000 Vrindam = 1 Maha Vrindam\n",
      "\n",
      "* 100,000 Maha Vrindam = 1 Padmam\n",
      "\n",
      "* 100,000 Padmam = 1 Maha Padmam\n",
      "\n",
      "* 100,000 Maha Padmam = 1 Kharvam\n",
      "\n",
      "* 100,000 Kharvam = 1 Maha Kharvam\n",
      "\n",
      "* 100,000 Maha Kharvam = 1 Samudram\n",
      "100,000 Samudram = 1 Ogha\n",
      "\n",
      "10 00, ,000 C Ogha = = 1 Mahaugha a ey\n",
      "\n",
      "\n",
      "\n",
      "CPU times: total: 594 ms\n",
      "Wall time: 4.41 s\n"
     ]
    }
   ],
   "source": [
    "%%time\n",
    "text = pytesseract.image_to_string(img)\n",
    "print(text)\n",
    "boxes = pytesseract.image_to_boxes(img)\n",
    "print(boxes)"
   ]
  },
  {
   "cell_type": "code",
   "execution_count": 7,
   "id": "c36d770a-e4de-4210-a33d-ef8c83283b75",
   "metadata": {},
   "outputs": [
    {
     "name": "stdout",
     "output_type": "stream",
     "text": [
      "Text saved to output.txt\n"
     ]
    }
   ],
   "source": [
    "with open(\"output.txt\", \"w\") as file:\n",
    "    file.write(text)\n",
    "\n",
    "print(\"Text saved to output.txt\")"
   ]
  },
  {
   "cell_type": "code",
   "execution_count": 13,
   "id": "0ac73c10-d544-48e6-822f-738964d64533",
   "metadata": {},
   "outputs": [],
   "source": [
    "# Loop through the bounding boxes and draw rectangles\n",
    "for box in boxes.splitlines():\n",
    "    b = box.split()\n",
    "    x, y, w, h = int(b[1]), int(b[2]), int(b[3]), int(b[4])\n",
    "    img = cv2.rectangle(img, (x, img.shape[0] - y), (w, img.shape[0] - h), (0, 0, 255), 2)\n",
    "\n",
    "# Display the image with rectangles\n",
    "cv2.imshow(\"Preview\", img)\n",
    "cv2.waitKey(0)\n",
    "cv2.destroyAllWindows()\n",
    "\n",
    "# Print the recognized text\n",
    "print(text)"
   ]
  },
  {
   "cell_type": "markdown",
   "id": "68f89d50-2016-4719-acea-80bf8867bfb8",
   "metadata": {},
   "source": [
    "                                                                THANK YOU"
   ]
  }
 ],
 "metadata": {
  "kernelspec": {
   "display_name": "Python 3 (ipykernel)",
   "language": "python",
   "name": "python3"
  },
  "language_info": {
   "codemirror_mode": {
    "name": "ipython",
    "version": 3
   },
   "file_extension": ".py",
   "mimetype": "text/x-python",
   "name": "python",
   "nbconvert_exporter": "python",
   "pygments_lexer": "ipython3",
   "version": "3.10.7"
  }
 },
 "nbformat": 4,
 "nbformat_minor": 5
}
